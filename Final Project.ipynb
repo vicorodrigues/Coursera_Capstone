{
 "cells": [
  {
   "cell_type": "markdown",
   "metadata": {},
   "source": [
    "# EU members capitals comparison"
   ]
  },
  {
   "cell_type": "markdown",
   "metadata": {},
   "source": [
    "## Introduction"
   ]
  },
  {
   "cell_type": "markdown",
   "metadata": {},
   "source": [
    "This project aims to group similar capitals of EU countries into clusters and to compare similar neighbourhoods on those clusters to help people who want to live abroad or just meet places similar of those they love."
   ]
  },
  {
   "cell_type": "markdown",
   "metadata": {},
   "source": [
    "To achieve our objective the model will consider the type of venues existing on each neighbourhood of each place, which will be purchased using Foursquare API, and the cost of living on those cities, based on NUMBEO Cost of Living Index."
   ]
  },
  {
   "cell_type": "markdown",
   "metadata": {},
   "source": [
    "## Data pre-processing"
   ]
  },
  {
   "cell_type": "code",
   "execution_count": 1,
   "metadata": {},
   "outputs": [],
   "source": [
    "import pandas as pd\n",
    "import matplotlib as mpl\n",
    "import matplotlib.pyplot as plt\n",
    "import folium # plot maps\n",
    "from geopy.geocoders import Nominatim # get coordinates\n",
    "import numpy as np"
   ]
  },
  {
   "cell_type": "markdown",
   "metadata": {},
   "source": [
    "### Neighbourhood Data"
   ]
  },
  {
   "cell_type": "markdown",
   "metadata": {},
   "source": [
    "I got those values manualy and uploaded an CSV into my website server. Let's first import the table."
   ]
  },
  {
   "cell_type": "markdown",
   "metadata": {},
   "source": [
    "__Import neighbourhood table__"
   ]
  },
  {
   "cell_type": "code",
   "execution_count": 2,
   "metadata": {},
   "outputs": [],
   "source": [
    "nbh_url = 'https://victorrodrigues.com.br/wp-content/uploads/2020/01/EU_capitals_neighborhoods.csv'\n",
    "nbh = pd.read_csv(nbh_url, sep=';', decimal='.', thousands=',')"
   ]
  },
  {
   "cell_type": "markdown",
   "metadata": {},
   "source": [
    "Let's see how it looks like"
   ]
  },
  {
   "cell_type": "code",
   "execution_count": 3,
   "metadata": {
    "scrolled": true
   },
   "outputs": [
    {
     "data": {
      "text/html": [
       "<div>\n",
       "<style scoped>\n",
       "    .dataframe tbody tr th:only-of-type {\n",
       "        vertical-align: middle;\n",
       "    }\n",
       "\n",
       "    .dataframe tbody tr th {\n",
       "        vertical-align: top;\n",
       "    }\n",
       "\n",
       "    .dataframe thead th {\n",
       "        text-align: right;\n",
       "    }\n",
       "</style>\n",
       "<table border=\"1\" class=\"dataframe\">\n",
       "  <thead>\n",
       "    <tr style=\"text-align: right;\">\n",
       "      <th></th>\n",
       "      <th>Country</th>\n",
       "      <th>City</th>\n",
       "      <th>Borough</th>\n",
       "      <th>Neighbourhood</th>\n",
       "      <th>Area</th>\n",
       "      <th>Population</th>\n",
       "      <th>Density</th>\n",
       "    </tr>\n",
       "  </thead>\n",
       "  <tbody>\n",
       "    <tr>\n",
       "      <th>0</th>\n",
       "      <td>Malta</td>\n",
       "      <td>Valletta</td>\n",
       "      <td>Valletta</td>\n",
       "      <td>NaN</td>\n",
       "      <td>0.8000</td>\n",
       "      <td>6444.0</td>\n",
       "      <td>8,055</td>\n",
       "    </tr>\n",
       "    <tr>\n",
       "      <th>1</th>\n",
       "      <td>Luxembourg</td>\n",
       "      <td>Luxembourg City</td>\n",
       "      <td>Beggen</td>\n",
       "      <td>NaN</td>\n",
       "      <td>1.7091</td>\n",
       "      <td>3746.0</td>\n",
       "      <td>2,192</td>\n",
       "    </tr>\n",
       "    <tr>\n",
       "      <th>2</th>\n",
       "      <td>Luxembourg</td>\n",
       "      <td>Luxembourg City</td>\n",
       "      <td>Belair</td>\n",
       "      <td>NaN</td>\n",
       "      <td>1.7180</td>\n",
       "      <td>11494.0</td>\n",
       "      <td>6,690</td>\n",
       "    </tr>\n",
       "    <tr>\n",
       "      <th>3</th>\n",
       "      <td>Luxembourg</td>\n",
       "      <td>Luxembourg City</td>\n",
       "      <td>North Bonnevoie-Verlorenkost</td>\n",
       "      <td>NaN</td>\n",
       "      <td>0.6776</td>\n",
       "      <td>4296.0</td>\n",
       "      <td>6,340</td>\n",
       "    </tr>\n",
       "    <tr>\n",
       "      <th>4</th>\n",
       "      <td>Luxembourg</td>\n",
       "      <td>Luxembourg City</td>\n",
       "      <td>South Bonnevoie</td>\n",
       "      <td>NaN</td>\n",
       "      <td>2.3921</td>\n",
       "      <td>12734.0</td>\n",
       "      <td>5,323</td>\n",
       "    </tr>\n",
       "  </tbody>\n",
       "</table>\n",
       "</div>"
      ],
      "text/plain": [
       "      Country             City                       Borough Neighbourhood  \\\n",
       "0       Malta         Valletta                      Valletta           NaN   \n",
       "1  Luxembourg  Luxembourg City                        Beggen           NaN   \n",
       "2  Luxembourg  Luxembourg City                        Belair           NaN   \n",
       "3  Luxembourg  Luxembourg City  North Bonnevoie-Verlorenkost           NaN   \n",
       "4  Luxembourg  Luxembourg City               South Bonnevoie           NaN   \n",
       "\n",
       "     Area  Population Density  \n",
       "0  0.8000      6444.0   8,055  \n",
       "1  1.7091      3746.0   2,192  \n",
       "2  1.7180     11494.0   6,690  \n",
       "3  0.6776      4296.0   6,340  \n",
       "4  2.3921     12734.0   5,323  "
      ]
     },
     "execution_count": 3,
     "metadata": {},
     "output_type": "execute_result"
    }
   ],
   "source": [
    "nbh.head()"
   ]
  },
  {
   "cell_type": "code",
   "execution_count": 4,
   "metadata": {},
   "outputs": [
    {
     "data": {
      "text/html": [
       "<div>\n",
       "<style scoped>\n",
       "    .dataframe tbody tr th:only-of-type {\n",
       "        vertical-align: middle;\n",
       "    }\n",
       "\n",
       "    .dataframe tbody tr th {\n",
       "        vertical-align: top;\n",
       "    }\n",
       "\n",
       "    .dataframe thead th {\n",
       "        text-align: right;\n",
       "    }\n",
       "</style>\n",
       "<table border=\"1\" class=\"dataframe\">\n",
       "  <thead>\n",
       "    <tr style=\"text-align: right;\">\n",
       "      <th></th>\n",
       "      <th>Country</th>\n",
       "      <th>City</th>\n",
       "      <th>Borough</th>\n",
       "      <th>Neighbourhood</th>\n",
       "      <th>Area</th>\n",
       "      <th>Population</th>\n",
       "      <th>Density</th>\n",
       "    </tr>\n",
       "  </thead>\n",
       "  <tbody>\n",
       "    <tr>\n",
       "      <th>count</th>\n",
       "      <td>485</td>\n",
       "      <td>485</td>\n",
       "      <td>479</td>\n",
       "      <td>152</td>\n",
       "      <td>475.000000</td>\n",
       "      <td>479.000000</td>\n",
       "      <td>485</td>\n",
       "    </tr>\n",
       "    <tr>\n",
       "      <th>unique</th>\n",
       "      <td>28</td>\n",
       "      <td>28</td>\n",
       "      <td>354</td>\n",
       "      <td>146</td>\n",
       "      <td>NaN</td>\n",
       "      <td>NaN</td>\n",
       "      <td>466</td>\n",
       "    </tr>\n",
       "    <tr>\n",
       "      <th>top</th>\n",
       "      <td>Germany</td>\n",
       "      <td>Berlin</td>\n",
       "      <td>Lefkosía</td>\n",
       "      <td>Lichtenberg</td>\n",
       "      <td>NaN</td>\n",
       "      <td>NaN</td>\n",
       "      <td>#DIV/0!</td>\n",
       "    </tr>\n",
       "    <tr>\n",
       "      <th>freq</th>\n",
       "      <td>108</td>\n",
       "      <td>108</td>\n",
       "      <td>19</td>\n",
       "      <td>2</td>\n",
       "      <td>NaN</td>\n",
       "      <td>NaN</td>\n",
       "      <td>10</td>\n",
       "    </tr>\n",
       "    <tr>\n",
       "      <th>mean</th>\n",
       "      <td>NaN</td>\n",
       "      <td>NaN</td>\n",
       "      <td>NaN</td>\n",
       "      <td>NaN</td>\n",
       "      <td>20.602107</td>\n",
       "      <td>79513.720251</td>\n",
       "      <td>NaN</td>\n",
       "    </tr>\n",
       "    <tr>\n",
       "      <th>std</th>\n",
       "      <td>NaN</td>\n",
       "      <td>NaN</td>\n",
       "      <td>NaN</td>\n",
       "      <td>NaN</td>\n",
       "      <td>34.242399</td>\n",
       "      <td>89845.617733</td>\n",
       "      <td>NaN</td>\n",
       "    </tr>\n",
       "    <tr>\n",
       "      <th>min</th>\n",
       "      <td>NaN</td>\n",
       "      <td>NaN</td>\n",
       "      <td>NaN</td>\n",
       "      <td>NaN</td>\n",
       "      <td>0.030000</td>\n",
       "      <td>50.000000</td>\n",
       "      <td>NaN</td>\n",
       "    </tr>\n",
       "    <tr>\n",
       "      <th>25%</th>\n",
       "      <td>NaN</td>\n",
       "      <td>NaN</td>\n",
       "      <td>NaN</td>\n",
       "      <td>NaN</td>\n",
       "      <td>4.915000</td>\n",
       "      <td>16555.000000</td>\n",
       "      <td>NaN</td>\n",
       "    </tr>\n",
       "    <tr>\n",
       "      <th>50%</th>\n",
       "      <td>NaN</td>\n",
       "      <td>NaN</td>\n",
       "      <td>NaN</td>\n",
       "      <td>NaN</td>\n",
       "      <td>9.310000</td>\n",
       "      <td>47414.000000</td>\n",
       "      <td>NaN</td>\n",
       "    </tr>\n",
       "    <tr>\n",
       "      <th>75%</th>\n",
       "      <td>NaN</td>\n",
       "      <td>NaN</td>\n",
       "      <td>NaN</td>\n",
       "      <td>NaN</td>\n",
       "      <td>24.350000</td>\n",
       "      <td>103099.000000</td>\n",
       "      <td>NaN</td>\n",
       "    </tr>\n",
       "    <tr>\n",
       "      <th>max</th>\n",
       "      <td>NaN</td>\n",
       "      <td>NaN</td>\n",
       "      <td>NaN</td>\n",
       "      <td>NaN</td>\n",
       "      <td>407.000000</td>\n",
       "      <td>407039.000000</td>\n",
       "      <td>NaN</td>\n",
       "    </tr>\n",
       "  </tbody>\n",
       "</table>\n",
       "</div>"
      ],
      "text/plain": [
       "        Country    City   Borough Neighbourhood        Area     Population  \\\n",
       "count       485     485       479           152  475.000000     479.000000   \n",
       "unique       28      28       354           146         NaN            NaN   \n",
       "top     Germany  Berlin  Lefkosía   Lichtenberg         NaN            NaN   \n",
       "freq        108     108        19             2         NaN            NaN   \n",
       "mean        NaN     NaN       NaN           NaN   20.602107   79513.720251   \n",
       "std         NaN     NaN       NaN           NaN   34.242399   89845.617733   \n",
       "min         NaN     NaN       NaN           NaN    0.030000      50.000000   \n",
       "25%         NaN     NaN       NaN           NaN    4.915000   16555.000000   \n",
       "50%         NaN     NaN       NaN           NaN    9.310000   47414.000000   \n",
       "75%         NaN     NaN       NaN           NaN   24.350000  103099.000000   \n",
       "max         NaN     NaN       NaN           NaN  407.000000  407039.000000   \n",
       "\n",
       "        Density  \n",
       "count       485  \n",
       "unique      466  \n",
       "top     #DIV/0!  \n",
       "freq         10  \n",
       "mean        NaN  \n",
       "std         NaN  \n",
       "min         NaN  \n",
       "25%         NaN  \n",
       "50%         NaN  \n",
       "75%         NaN  \n",
       "max         NaN  "
      ]
     },
     "execution_count": 4,
     "metadata": {},
     "output_type": "execute_result"
    }
   ],
   "source": [
    "nbh.describe(include='all')"
   ]
  },
  {
   "cell_type": "markdown",
   "metadata": {},
   "source": [
    "__Grouping the table__"
   ]
  },
  {
   "cell_type": "markdown",
   "metadata": {},
   "source": [
    "I couldn't find all neighbourhoods, so I decided to work until the Borough level of table. For that, we'll group the table:"
   ]
  },
  {
   "cell_type": "code",
   "execution_count": 5,
   "metadata": {
    "scrolled": true
   },
   "outputs": [
    {
     "data": {
      "text/html": [
       "<div>\n",
       "<style scoped>\n",
       "    .dataframe tbody tr th:only-of-type {\n",
       "        vertical-align: middle;\n",
       "    }\n",
       "\n",
       "    .dataframe tbody tr th {\n",
       "        vertical-align: top;\n",
       "    }\n",
       "\n",
       "    .dataframe thead th {\n",
       "        text-align: right;\n",
       "    }\n",
       "</style>\n",
       "<table border=\"1\" class=\"dataframe\">\n",
       "  <thead>\n",
       "    <tr style=\"text-align: right;\">\n",
       "      <th></th>\n",
       "      <th>Country</th>\n",
       "      <th>City</th>\n",
       "      <th>Borough</th>\n",
       "      <th>Area</th>\n",
       "      <th>Population</th>\n",
       "    </tr>\n",
       "  </thead>\n",
       "  <tbody>\n",
       "    <tr>\n",
       "      <th>0</th>\n",
       "      <td>Austria</td>\n",
       "      <td>Vienna</td>\n",
       "      <td>Alsergrund</td>\n",
       "      <td>2.99</td>\n",
       "      <td>41958.0</td>\n",
       "    </tr>\n",
       "    <tr>\n",
       "      <th>1</th>\n",
       "      <td>Austria</td>\n",
       "      <td>Vienna</td>\n",
       "      <td>Brigittenau</td>\n",
       "      <td>5.68</td>\n",
       "      <td>86502.0</td>\n",
       "    </tr>\n",
       "    <tr>\n",
       "      <th>2</th>\n",
       "      <td>Austria</td>\n",
       "      <td>Vienna</td>\n",
       "      <td>Donaustadt</td>\n",
       "      <td>102.34</td>\n",
       "      <td>191008.0</td>\n",
       "    </tr>\n",
       "    <tr>\n",
       "      <th>3</th>\n",
       "      <td>Austria</td>\n",
       "      <td>Vienna</td>\n",
       "      <td>Döbling</td>\n",
       "      <td>24.90</td>\n",
       "      <td>72947.0</td>\n",
       "    </tr>\n",
       "    <tr>\n",
       "      <th>4</th>\n",
       "      <td>Austria</td>\n",
       "      <td>Vienna</td>\n",
       "      <td>Favoriten</td>\n",
       "      <td>31.80</td>\n",
       "      <td>204142.0</td>\n",
       "    </tr>\n",
       "  </tbody>\n",
       "</table>\n",
       "</div>"
      ],
      "text/plain": [
       "   Country    City      Borough    Area  Population\n",
       "0  Austria  Vienna   Alsergrund    2.99     41958.0\n",
       "1  Austria  Vienna  Brigittenau    5.68     86502.0\n",
       "2  Austria  Vienna   Donaustadt  102.34    191008.0\n",
       "3  Austria  Vienna      Döbling   24.90     72947.0\n",
       "4  Austria  Vienna    Favoriten   31.80    204142.0"
      ]
     },
     "execution_count": 5,
     "metadata": {},
     "output_type": "execute_result"
    }
   ],
   "source": [
    "df = nbh.groupby(['Country','City','Borough'], as_index=False).sum()\n",
    "df.head()"
   ]
  },
  {
   "cell_type": "markdown",
   "metadata": {},
   "source": [
    "__Geting the codinates of each borough__"
   ]
  },
  {
   "cell_type": "markdown",
   "metadata": {},
   "source": [
    "Create a function to get the coordinates"
   ]
  },
  {
   "cell_type": "code",
   "execution_count": 6,
   "metadata": {},
   "outputs": [],
   "source": [
    "geolocator = Nominatim(user_agent=\"eu_capitals\")\n",
    "\n",
    "def get_coordinates(borough, city, country):\n",
    "    place = borough + ', ' + city + ', ' + country\n",
    "    lat = None\n",
    "    lng = None\n",
    "    t = 0\n",
    "    while (lat is None) and (lng is None) and (t < 5): # In case of error, it tries up to 5 times retrieving the coordinates\n",
    "        try:\n",
    "            location = geolocator.geocode(place)\n",
    "            lat = location.latitude\n",
    "            lng = location.longitude\n",
    "            break\n",
    "        except:\n",
    "            lat = None\n",
    "            lng = None\n",
    "            t = t + 1\n",
    "    coordinates = str(lat) + ',' + str(lng)\n",
    "    return coordinates"
   ]
  },
  {
   "cell_type": "markdown",
   "metadata": {},
   "source": [
    "Apply the function to the dataframe"
   ]
  },
  {
   "cell_type": "code",
   "execution_count": 7,
   "metadata": {},
   "outputs": [],
   "source": [
    "df['coordinates'] = df.apply(lambda x : get_coordinates(x.Borough, x.City, x.Country), axis=1)"
   ]
  },
  {
   "cell_type": "markdown",
   "metadata": {},
   "source": [
    "Split the coordinates column into two"
   ]
  },
  {
   "cell_type": "code",
   "execution_count": 8,
   "metadata": {},
   "outputs": [],
   "source": [
    "df['lat'] = df['coordinates'].str.split(\",\", n = 1, expand = True)[0]\n",
    "df['lng'] = df['coordinates'].str.split(\",\", n = 1, expand = True)[1]\n",
    "df.drop(columns =['coordinates'], inplace = True) "
   ]
  },
  {
   "cell_type": "markdown",
   "metadata": {},
   "source": [
    "Check for empty values"
   ]
  },
  {
   "cell_type": "code",
   "execution_count": 9,
   "metadata": {},
   "outputs": [
    {
     "data": {
      "text/html": [
       "<div>\n",
       "<style scoped>\n",
       "    .dataframe tbody tr th:only-of-type {\n",
       "        vertical-align: middle;\n",
       "    }\n",
       "\n",
       "    .dataframe tbody tr th {\n",
       "        vertical-align: top;\n",
       "    }\n",
       "\n",
       "    .dataframe thead th {\n",
       "        text-align: right;\n",
       "    }\n",
       "</style>\n",
       "<table border=\"1\" class=\"dataframe\">\n",
       "  <thead>\n",
       "    <tr style=\"text-align: right;\">\n",
       "      <th></th>\n",
       "      <th>Country</th>\n",
       "      <th>City</th>\n",
       "      <th>Borough</th>\n",
       "      <th>Area</th>\n",
       "      <th>Population</th>\n",
       "      <th>lat</th>\n",
       "      <th>lng</th>\n",
       "    </tr>\n",
       "  </thead>\n",
       "  <tbody>\n",
       "    <tr>\n",
       "      <th>89</th>\n",
       "      <td>Cyprus</td>\n",
       "      <td>Nicosia</td>\n",
       "      <td>Synoikismós Anthoúpolis</td>\n",
       "      <td>0.44</td>\n",
       "      <td>1756.0</td>\n",
       "      <td>None</td>\n",
       "      <td>None</td>\n",
       "    </tr>\n",
       "    <tr>\n",
       "      <th>91</th>\n",
       "      <td>Cyprus</td>\n",
       "      <td>Nicosia</td>\n",
       "      <td>Énkomi</td>\n",
       "      <td>9.49</td>\n",
       "      <td>18010.0</td>\n",
       "      <td>None</td>\n",
       "      <td>None</td>\n",
       "    </tr>\n",
       "    <tr>\n",
       "      <th>114</th>\n",
       "      <td>Denmark</td>\n",
       "      <td>Copenhagen</td>\n",
       "      <td>Amager Vest</td>\n",
       "      <td>19.18</td>\n",
       "      <td>71755.0</td>\n",
       "      <td>None</td>\n",
       "      <td>None</td>\n",
       "    </tr>\n",
       "    <tr>\n",
       "      <th>115</th>\n",
       "      <td>Denmark</td>\n",
       "      <td>Copenhagen</td>\n",
       "      <td>Amager Øst</td>\n",
       "      <td>9.11</td>\n",
       "      <td>57673.0</td>\n",
       "      <td>None</td>\n",
       "      <td>None</td>\n",
       "    </tr>\n",
       "    <tr>\n",
       "      <th>122</th>\n",
       "      <td>Denmark</td>\n",
       "      <td>Copenhagen</td>\n",
       "      <td>Vesterbro/Kongens Enghave</td>\n",
       "      <td>8.18</td>\n",
       "      <td>67884.0</td>\n",
       "      <td>None</td>\n",
       "      <td>None</td>\n",
       "    </tr>\n",
       "    <tr>\n",
       "      <th>179</th>\n",
       "      <td>Hungary</td>\n",
       "      <td>Budapest</td>\n",
       "      <td>Rákospalota, Pestújhely, Újpalota</td>\n",
       "      <td>26.95</td>\n",
       "      <td>79779.0</td>\n",
       "      <td>None</td>\n",
       "      <td>None</td>\n",
       "    </tr>\n",
       "    <tr>\n",
       "      <th>185</th>\n",
       "      <td>Hungary</td>\n",
       "      <td>Budapest</td>\n",
       "      <td>Árpádföld, Cinkota, Mátyásföld, Sashalom, Ráko...</td>\n",
       "      <td>33.52</td>\n",
       "      <td>68235.0</td>\n",
       "      <td>None</td>\n",
       "      <td>None</td>\n",
       "    </tr>\n",
       "    <tr>\n",
       "      <th>189</th>\n",
       "      <td>Latvia</td>\n",
       "      <td>Riga</td>\n",
       "      <td>Central District</td>\n",
       "      <td>3.00</td>\n",
       "      <td>26466.0</td>\n",
       "      <td>None</td>\n",
       "      <td>None</td>\n",
       "    </tr>\n",
       "    <tr>\n",
       "      <th>190</th>\n",
       "      <td>Latvia</td>\n",
       "      <td>Riga</td>\n",
       "      <td>Kurzeme District</td>\n",
       "      <td>79.00</td>\n",
       "      <td>134817.0</td>\n",
       "      <td>None</td>\n",
       "      <td>None</td>\n",
       "    </tr>\n",
       "    <tr>\n",
       "      <th>191</th>\n",
       "      <td>Latvia</td>\n",
       "      <td>Riga</td>\n",
       "      <td>Latgale Suburb</td>\n",
       "      <td>50.00</td>\n",
       "      <td>197166.0</td>\n",
       "      <td>None</td>\n",
       "      <td>None</td>\n",
       "    </tr>\n",
       "    <tr>\n",
       "      <th>192</th>\n",
       "      <td>Latvia</td>\n",
       "      <td>Riga</td>\n",
       "      <td>Northern District</td>\n",
       "      <td>77.00</td>\n",
       "      <td>81972.0</td>\n",
       "      <td>None</td>\n",
       "      <td>None</td>\n",
       "    </tr>\n",
       "    <tr>\n",
       "      <th>193</th>\n",
       "      <td>Latvia</td>\n",
       "      <td>Riga</td>\n",
       "      <td>Vidzeme Suburb</td>\n",
       "      <td>57.00</td>\n",
       "      <td>173124.0</td>\n",
       "      <td>None</td>\n",
       "      <td>None</td>\n",
       "    </tr>\n",
       "    <tr>\n",
       "      <th>194</th>\n",
       "      <td>Latvia</td>\n",
       "      <td>Riga</td>\n",
       "      <td>Zemgale Suburb</td>\n",
       "      <td>41.00</td>\n",
       "      <td>106068.0</td>\n",
       "      <td>None</td>\n",
       "      <td>None</td>\n",
       "    </tr>\n",
       "  </tbody>\n",
       "</table>\n",
       "</div>"
      ],
      "text/plain": [
       "     Country        City                                            Borough  \\\n",
       "89    Cyprus     Nicosia                            Synoikismós Anthoúpolis   \n",
       "91    Cyprus     Nicosia                                             Énkomi   \n",
       "114  Denmark  Copenhagen                                        Amager Vest   \n",
       "115  Denmark  Copenhagen                                         Amager Øst   \n",
       "122  Denmark  Copenhagen                          Vesterbro/Kongens Enghave   \n",
       "179  Hungary    Budapest                  Rákospalota, Pestújhely, Újpalota   \n",
       "185  Hungary    Budapest  Árpádföld, Cinkota, Mátyásföld, Sashalom, Ráko...   \n",
       "189   Latvia        Riga                                   Central District   \n",
       "190   Latvia        Riga                                   Kurzeme District   \n",
       "191   Latvia        Riga                                     Latgale Suburb   \n",
       "192   Latvia        Riga                                  Northern District   \n",
       "193   Latvia        Riga                                     Vidzeme Suburb   \n",
       "194   Latvia        Riga                                     Zemgale Suburb   \n",
       "\n",
       "      Area  Population   lat   lng  \n",
       "89    0.44      1756.0  None  None  \n",
       "91    9.49     18010.0  None  None  \n",
       "114  19.18     71755.0  None  None  \n",
       "115   9.11     57673.0  None  None  \n",
       "122   8.18     67884.0  None  None  \n",
       "179  26.95     79779.0  None  None  \n",
       "185  33.52     68235.0  None  None  \n",
       "189   3.00     26466.0  None  None  \n",
       "190  79.00    134817.0  None  None  \n",
       "191  50.00    197166.0  None  None  \n",
       "192  77.00     81972.0  None  None  \n",
       "193  57.00    173124.0  None  None  \n",
       "194  41.00    106068.0  None  None  "
      ]
     },
     "execution_count": 9,
     "metadata": {},
     "output_type": "execute_result"
    }
   ],
   "source": [
    "df[df.lat == 'None']"
   ]
  },
  {
   "cell_type": "markdown",
   "metadata": {},
   "source": [
    "__Create a map to visualize locations__"
   ]
  },
  {
   "cell_type": "code",
   "execution_count": null,
   "metadata": {},
   "outputs": [],
   "source": [
    "latitude = 44.8584319\n",
    "longitude = 3.1515146\n",
    "\n",
    "# create map of New York using latitude and longitude values\n",
    "map_eu = folium.Map(location=[latitude, longitude], zoom_start=4)\n",
    "\n",
    "# add markers to map\n",
    "for lat, lng, borough, city, country in zip(df['lat'], df['lng'], df['Borough'], df['City'], df['Country']):\n",
    "    label = '{}, {}'.format(borough, city)\n",
    "    label = folium.Popup(label, parse_html=True)\n",
    "    folium.CircleMarker(\n",
    "        [lat, lng],\n",
    "        radius=5,\n",
    "        popup=label,\n",
    "        color='blue',\n",
    "        fill=True,\n",
    "        fill_color='#3186cc',\n",
    "        fill_opacity=0.7,\n",
    "        parse_html=False).add_to(map_eu)  \n",
    "    \n",
    "map_eu"
   ]
  },
  {
   "cell_type": "markdown",
   "metadata": {},
   "source": [
    "### Cost of living index"
   ]
  },
  {
   "cell_type": "markdown",
   "metadata": {},
   "source": [
    "We'll use the Cost of Living Index from NUMBEO as a variable for compare cities (not neighbourhoods). Below a little explanation about this index, provided by NUMBEO on [this link](https://www.numbeo.com/cost-of-living/cpi_explained.jsp):\n",
    "> These indices are relative to New York City (NYC). Which means that for New York City, each index should be 100(%). If another city has, for example, rent index of 120, it means that on an average in that city rents are 20% more expensive than in New York City. If a city has rent index of 70, that means on an average in that city rents are 30% less expensive than in New York City."
   ]
  },
  {
   "cell_type": "code",
   "execution_count": null,
   "metadata": {},
   "outputs": [],
   "source": [
    "url_cost_living = 'https://www.numbeo.com/cost-of-living/rankings_current.jsp'\n",
    "cost_living = pd.read_html(url_cost_living)\n",
    "cost_living"
   ]
  },
  {
   "cell_type": "code",
   "execution_count": null,
   "metadata": {
    "scrolled": true
   },
   "outputs": [],
   "source": [
    "# Let's filter just the data we need\n",
    "cost_living = cost_living[2].iloc[:,1:]"
   ]
  },
  {
   "cell_type": "code",
   "execution_count": null,
   "metadata": {},
   "outputs": [],
   "source": [
    "# Rename the column City\n",
    "cost_living = cost_living.rename(columns={'City' : 'CountryCity'})"
   ]
  },
  {
   "cell_type": "code",
   "execution_count": null,
   "metadata": {},
   "outputs": [],
   "source": [
    "# Let's see everything is ok\n",
    "cost_living.head()"
   ]
  }
 ],
 "metadata": {
  "kernelspec": {
   "display_name": "Python 3",
   "language": "python",
   "name": "python3"
  },
  "language_info": {
   "codemirror_mode": {
    "name": "ipython",
    "version": 3
   },
   "file_extension": ".py",
   "mimetype": "text/x-python",
   "name": "python",
   "nbconvert_exporter": "python",
   "pygments_lexer": "ipython3",
   "version": "3.6.6"
  }
 },
 "nbformat": 4,
 "nbformat_minor": 2
}
